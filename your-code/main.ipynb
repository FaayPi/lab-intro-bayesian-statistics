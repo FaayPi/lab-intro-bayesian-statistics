{
  "cells": [
    {
      "cell_type": "markdown",
      "metadata": {
        "id": "FqU3wruvyqz_"
      },
      "source": [
        "# Intro to Bayesian Statistics Lab\n",
        "\n",
        "Complete the following set of exercises to solidify your knowledge of Bayesian statistics and Bayesian data analysis."
      ]
    },
    {
      "cell_type": "code",
      "execution_count": 1,
      "metadata": {
        "id": "N0Mh8CLhyq0C"
      },
      "outputs": [],
      "source": [
        "import pandas as pd\n",
        "import numpy as np\n",
        "import matplotlib.pyplot as plt"
      ]
    },
    {
      "cell_type": "markdown",
      "metadata": {
        "id": "IHoDY403yq0E"
      },
      "source": [
        "## 1. Cookie Problem\n",
        "\n",
        "Suppose we have two bowls of cookies. Bowl 1 contains 30 vanilla cookies and 10 chocolate cookies. Bowl 2 contains 20 of each. You randomly pick one cookie out of one of the bowls, and it is vanilla. Use Bayes Theorem to calculate the probability that the vanilla cookie you picked came from Bowl 1?"
      ]
    },
    {
      "cell_type": "code",
      "execution_count": 3,
      "metadata": {
        "colab": {
          "base_uri": "https://localhost:8080/"
        },
        "id": "QSPciQWCyq0F",
        "outputId": "e7a57633-9a22-452a-cbac-9f50f4e0d667"
      },
      "outputs": [
        {
          "output_type": "stream",
          "name": "stdout",
          "text": [
            "Probability that the vanilla cookie is from bowl 1: 0.6\n"
          ]
        }
      ],
      "source": [
        "p_bowl1 = 0.5\n",
        "p_bowl2 = 0.5\n",
        "p_bowl1_vanilla = 0.75\n",
        "p_bowl2_vanilla = 0.5\n",
        "\n",
        "p_vanilla = (p_bowl1*p_bowl1_vanilla)+(p_bowl2*p_bowl2_vanilla)\n",
        "p_bowl1_given_vanilla= (p_bowl1_vanilla*p_bowl1)/p_vanilla\n",
        "print(f'Probability that the vanilla cookie is from bowl 1: {p_bowl1_given_vanilla}')"
      ]
    },
    {
      "cell_type": "markdown",
      "metadata": {
        "id": "eyL2n5smyq0F"
      },
      "source": [
        "What is the probability that it came from Bowl 2?"
      ]
    },
    {
      "cell_type": "code",
      "execution_count": 4,
      "metadata": {
        "colab": {
          "base_uri": "https://localhost:8080/"
        },
        "id": "EvqPyVxzyq0F",
        "outputId": "e4464c55-05e4-4403-c0f6-3024ee3b5256"
      },
      "outputs": [
        {
          "output_type": "stream",
          "name": "stdout",
          "text": [
            "Probability that the vanilla cookie is from bowl 2: 0.4\n"
          ]
        }
      ],
      "source": [
        "p_bowl1 = 0.5\n",
        "p_bowl2 = 0.5\n",
        "p_bowl1_vanilla = 0.75\n",
        "p_bowl2_vanilla = 0.5\n",
        "\n",
        "p_vanilla = (p_bowl1*p_bowl1_vanilla)+(p_bowl2*p_bowl2_vanilla)\n",
        "p_bowl2_given_vanilla= (p_bowl2_vanilla*p_bowl2)/p_vanilla\n",
        "print(f'Probability that the vanilla cookie is from bowl 2: {p_bowl2_given_vanilla}')"
      ]
    },
    {
      "cell_type": "markdown",
      "metadata": {
        "id": "m4nTYPNQyq0G"
      },
      "source": [
        "What if the cookie you had picked was chocolate? What are the probabilities that the chocolate cookie came from Bowl 1 and Bowl 2 respectively?"
      ]
    },
    {
      "cell_type": "code",
      "execution_count": 5,
      "metadata": {
        "colab": {
          "base_uri": "https://localhost:8080/"
        },
        "id": "vClQsCypyq0G",
        "outputId": "c1ce0717-27ba-4d63-a9b5-b1c0c6227a29"
      },
      "outputs": [
        {
          "output_type": "stream",
          "name": "stdout",
          "text": [
            "Probability that the choco cookie is from bowl 1: 0.3333333333333333\n"
          ]
        }
      ],
      "source": [
        "p_bowl1 = 0.5\n",
        "p_bowl2 = 0.5\n",
        "p_bowl1_vanilla = 0.75\n",
        "p_bowl2_vanilla = 0.5\n",
        "p_bowl1_choco = 0.25\n",
        "p_bowl2_choco = 0.5\n",
        "\n",
        "p_choco = (p_bowl1*p_bowl1_choco)+(p_bowl2*p_bowl2_choco)\n",
        "p_bowl1_given_choco= (p_bowl1_choco*p_bowl1)/p_choco\n",
        "print(f'Probability that the choco cookie is from bowl 1: {p_bowl1_given_choco}')"
      ]
    },
    {
      "cell_type": "code",
      "source": [
        "p_bowl1 = 0.5\n",
        "p_bowl2 = 0.5\n",
        "p_bowl1_vanilla = 0.75\n",
        "p_bowl2_vanilla = 0.5\n",
        "p_bowl1_choco = 0.25\n",
        "p_bowl2_choco = 0.5\n",
        "\n",
        "p_choco = (p_bowl1*p_bowl1_choco)+(p_bowl2*p_bowl2_choco)\n",
        "p_bowl2_given_choco= (p_bowl2_choco*p_bowl2)/p_choco\n",
        "print(f'Probability that the choco cookie is from bowl 2: {p_bowl2_given_choco}')"
      ],
      "metadata": {
        "colab": {
          "base_uri": "https://localhost:8080/"
        },
        "id": "KKsLd-AS1l_z",
        "outputId": "81661267-0448-4503-f6ce-e4d76acbf006"
      },
      "execution_count": 7,
      "outputs": [
        {
          "output_type": "stream",
          "name": "stdout",
          "text": [
            "Probability that the choco cookie is from bowl 2: 0.6666666666666666\n"
          ]
        }
      ]
    },
    {
      "cell_type": "markdown",
      "metadata": {
        "id": "kP7o7zIwyq0G"
      },
      "source": [
        "## 2. Candy Problem\n",
        "\n",
        "Suppose you have two bags of candies:\n",
        "\n",
        "- In Bag 1, the mix of colors is:\n",
        "    - Brown - 30%\n",
        "    - Yellow - 20%\n",
        "    - Red - 20%\n",
        "    - Green - 10%\n",
        "    - Orange - 10%\n",
        "    - Tan - 10%\n",
        "    \n",
        "- In Bag 2, the mix of colors is:\n",
        "    - Blue - 24%\n",
        "    - Green - 20%\n",
        "    - Orange - 16%\n",
        "    - Yellow - 14%\n",
        "    - Red - 13%\n",
        "    - Brown - 13%\n",
        "    \n",
        "Not knowing which bag is which, you randomly draw one candy from each bag. One is yellow and one is green. What is the probability that the yellow one came from the Bag 1?\n",
        "\n",
        "*Hint: For the likelihoods, you will need to multiply the probabilities of drawing yellow from one bag and green from the other bag and vice versa.*"
      ]
    },
    {
      "cell_type": "code",
      "execution_count": 3,
      "metadata": {
        "colab": {
          "base_uri": "https://localhost:8080/"
        },
        "id": "y4hyijdyyq0H",
        "outputId": "9687cf6a-45ae-4c35-e465-3bb1fa94fad7"
      },
      "outputs": [
        {
          "output_type": "stream",
          "name": "stdout",
          "text": [
            "The probability that the yellow one came from the Bag 1: 0.7407407407407408\n"
          ]
        }
      ],
      "source": [
        "p_bag1_green = 0.1\n",
        "p_bag1_yellow = 0.2\n",
        "p_bag2_green = 0.2\n",
        "p_bag2_yellow = 0.14\n",
        "\n",
        "p_h1 = p_bag1_yellow*p_bag2_green\n",
        "p_h2=p_bag1_green*p_bag2_yellow\n",
        "\n",
        "p_bag1_given_yellow = p_h1/(p_h1+p_h2)\n",
        "print(f'The probability that the yellow one came from the Bag 1: {p_bag1_given_yellow}')"
      ]
    },
    {
      "cell_type": "markdown",
      "metadata": {
        "id": "SuzyNATtyq0I"
      },
      "source": [
        "What is the probability that the yellow candy came from Bag 2?"
      ]
    },
    {
      "cell_type": "code",
      "execution_count": 4,
      "metadata": {
        "colab": {
          "base_uri": "https://localhost:8080/"
        },
        "id": "zPwM3lr4yq0I",
        "outputId": "4c220b99-3663-4e30-c484-4698265d32a0"
      },
      "outputs": [
        {
          "output_type": "stream",
          "name": "stdout",
          "text": [
            "The probability that the yellow one came from the Bag 2: 0.25925925925925924\n"
          ]
        }
      ],
      "source": [
        "p_bag1_green = 0.1\n",
        "p_bag1_yellow = 0.2\n",
        "p_bag2_green = 0.2\n",
        "p_bag2_yellow = 0.14\n",
        "\n",
        "p_h1 = p_bag1_yellow*p_bag2_green\n",
        "p_h2=p_bag1_green*p_bag2_yellow\n",
        "\n",
        "p_bag2_given_yellow = p_h2/(p_h1+p_h2)\n",
        "print(f'The probability that the yellow one came from the Bag 2: {p_bag2_given_yellow}')"
      ]
    },
    {
      "cell_type": "markdown",
      "metadata": {
        "id": "c2Y7lSTjyq0I"
      },
      "source": [
        "What are the probabilities that the green one came from Bag 1 and Bag 2 respectively?"
      ]
    },
    {
      "cell_type": "code",
      "execution_count": 12,
      "metadata": {
        "colab": {
          "base_uri": "https://localhost:8080/"
        },
        "id": "aJljcfD5yq0J",
        "outputId": "871c6de9-08e9-4793-dd37-d74c0ab487b9"
      },
      "outputs": [
        {
          "output_type": "stream",
          "name": "stdout",
          "text": [
            "The probability that the green one comes from:\n",
            "- Bag 1: 25.93%\n",
            "- Bag 2: 74.07%\n"
          ]
        }
      ],
      "source": [
        "p_bag1_green = 0.1\n",
        "p_bag1_yellow = 0.2\n",
        "p_bag2_green = 0.2\n",
        "p_bag2_yellow = 0.14\n",
        "\n",
        "p_h1 = p_bag1_green*p_bag2_yellow\n",
        "p_h2=p_bag2_green*p_bag1_yellow\n",
        "\n",
        "p_bag2_given_green = p_h2/(p_h1+p_h2)\n",
        "p_bag1_given_green = p_h1/(p_h1+p_h2)\n",
        "\n",
        "print(f'The probability that the green one comes from:')\n",
        "print(f'- Bag 1: {p_bag1_given_green:.2%}')\n",
        "print(f'- Bag 2: {p_bag2_given_green:.2%}')"
      ]
    },
    {
      "cell_type": "markdown",
      "source": [],
      "metadata": {
        "id": "PnuaLGTOZO0q"
      }
    },
    {
      "cell_type": "markdown",
      "source": [],
      "metadata": {
        "id": "ZWkfNDYRZ-Px"
      }
    },
    {
      "cell_type": "markdown",
      "metadata": {
        "id": "Zl8DGC5Nyq0J"
      },
      "source": [
        "## 3. Monty Hall Problem\n",
        "\n",
        "Suppose you are a contestant on the popular game show *Let's Make a Deal*. The host of the show (Monty Hall) presents you with three doors - Door A, Door B, and Door C. He tells you that there is a sports car behind one of them and if you choose the correct one, you win the car!\n",
        "\n",
        "You select Door A, but then Monty makes things a little more interesting. He opens Door B to reveal that there is no sports car behind it and asks you if you would like to stick with your choice of Door A or switch your choice to Door C. Given this new information, what are the probabilities of you winning the car if you stick with Door A versus if you switch to Door C?"
      ]
    },
    {
      "cell_type": "code",
      "execution_count": 13,
      "metadata": {
        "id": "5e6kF2pJyq0J"
      },
      "outputs": [],
      "source": [
        "win_given_staying = 1/3\n",
        "win_given_switching = 2/3\n",
        "\n"
      ]
    },
    {
      "cell_type": "markdown",
      "metadata": {
        "id": "YhMB13D3yq0J"
      },
      "source": [
        "# Bonus: Advanced Bayesian Challenge"
      ]
    },
    {
      "cell_type": "markdown",
      "metadata": {
        "id": "FEB87Y28yq0K"
      },
      "source": [
        "## 1. Bayesian Analysis\n",
        "\n",
        "Suppose you work for a landscaping company, and they want to advertise their service online. They create an ad and sit back waiting for the money to roll in. On the first day, the ad sends 100 visitors to the site and 14 of them sign up for landscaping services. Create a generative model to come up with the posterior distribution and produce a visualization of what the posterior distribution would look like given the observed data."
      ]
    },
    {
      "cell_type": "code",
      "execution_count": null,
      "metadata": {
        "id": "KCQ2_AUQyq0K"
      },
      "outputs": [],
      "source": []
    },
    {
      "cell_type": "markdown",
      "metadata": {
        "id": "8K5TUhrjyq0K"
      },
      "source": [
        "Produce a set of descriptive statistics for the posterior distribution."
      ]
    },
    {
      "cell_type": "code",
      "execution_count": null,
      "metadata": {
        "id": "AxtMieadyq0K"
      },
      "outputs": [],
      "source": []
    },
    {
      "cell_type": "markdown",
      "metadata": {
        "id": "MOLEOg4eyq0L"
      },
      "source": [
        "What is the 90% credible interval range?"
      ]
    },
    {
      "cell_type": "code",
      "execution_count": null,
      "metadata": {
        "id": "iygmkyLtyq0L"
      },
      "outputs": [],
      "source": []
    },
    {
      "cell_type": "markdown",
      "metadata": {
        "id": "dtWGESwJyq0L"
      },
      "source": [
        "What is the Maximum Likelihood Estimate?"
      ]
    },
    {
      "cell_type": "code",
      "execution_count": null,
      "metadata": {
        "id": "wjGrGmr9yq0L"
      },
      "outputs": [],
      "source": []
    }
  ],
  "metadata": {
    "kernelspec": {
      "display_name": "Python 3",
      "language": "python",
      "name": "python3"
    },
    "language_info": {
      "codemirror_mode": {
        "name": "ipython",
        "version": 3
      },
      "file_extension": ".py",
      "mimetype": "text/x-python",
      "name": "python",
      "nbconvert_exporter": "python",
      "pygments_lexer": "ipython3",
      "version": "3.7.2"
    },
    "colab": {
      "provenance": []
    }
  },
  "nbformat": 4,
  "nbformat_minor": 0
}